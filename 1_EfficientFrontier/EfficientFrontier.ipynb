{
 "cells": [
  {
   "cell_type": "markdown",
   "metadata": {},
   "source": [
    "# Efficient frontier"
   ]
  },
  {
   "cell_type": "markdown",
   "metadata": {},
   "source": [
    "This notebook illustrates the application of Harry Markowitz’s (1952) approach to optimal portfolio selection.\n",
    "\n",
    "First, let us import the libraries we are going to use.\n"
   ]
  },
  {
   "cell_type": "code",
   "execution_count": 1,
   "metadata": {},
   "outputs": [],
   "source": [
    "import pandas as pd\n",
    "import numpy as np\n",
    "import scipy.optimize as sco\n",
    "import matplotlib.pyplot as plt\n",
    "import datetime"
   ]
  },
  {
   "cell_type": "markdown",
   "metadata": {},
   "source": [
    "Also, it is our preference to use ggplot - like style, and Helvetica font.  "
   ]
  },
  {
   "cell_type": "code",
   "execution_count": 2,
   "metadata": {},
   "outputs": [],
   "source": [
    "from matplotlib import style\n",
    "import matplotlib as mpl\n",
    "import matplotlib.font_manager as fm\n",
    "\n",
    "style.use('ggplot')\n",
    "font = fm.FontProperties(fname='Font/helvetica.ttf')\n",
    "mpl.rcParams['font.family'] = font.get_name()"
   ]
  },
  {
   "cell_type": "markdown",
   "metadata": {},
   "source": [
    "### Dataset"
   ]
  },
  {
   "cell_type": "markdown",
   "metadata": {},
   "source": [
    "First, let us upload the data. The dataset we are using comprises daily observations of major asset classes indices.\n",
    "\n",
    "Some indices were initially designed as monthly indices. Therefore, to preserve more data, we convert daily observations into monthly observations. We truncate the dataset so that it starts on Jan 31, 1992. On this date, we have all the indices recorded.\n",
    "\n",
    "\n",
    "Next we calculate monthly returns."
   ]
  },
  {
   "cell_type": "code",
   "execution_count": 3,
   "metadata": {},
   "outputs": [],
   "source": [
    "df = pd.read_csv('Data/indices.csv', index_col=0, parse_dates=True) # read the dataset\n",
    "\n",
    "df = df.resample('M').last() # convert into monthly observations\n",
    "\n",
    "df = df.loc['1992-12-31':,:]  #truncate the dataset\n",
    "\n",
    "df = (df - df.shift(1)) / df.shift(1) #Calculate monthly returns\n",
    "\n",
    "df = df.iloc[1:,:]  # remove first row of NaNs\n"
   ]
  },
  {
   "cell_type": "markdown",
   "metadata": {},
   "source": [
    "Here is how our dataset looks like now"
   ]
  },
  {
   "cell_type": "code",
   "execution_count": 4,
   "metadata": {},
   "outputs": [
    {
     "data": {
      "text/html": [
       "<div>\n",
       "<style scoped>\n",
       "    .dataframe tbody tr th:only-of-type {\n",
       "        vertical-align: middle;\n",
       "    }\n",
       "\n",
       "    .dataframe tbody tr th {\n",
       "        vertical-align: top;\n",
       "    }\n",
       "\n",
       "    .dataframe thead th {\n",
       "        text-align: right;\n",
       "    }\n",
       "</style>\n",
       "<table border=\"1\" class=\"dataframe\">\n",
       "  <thead>\n",
       "    <tr style=\"text-align: right;\">\n",
       "      <th></th>\n",
       "      <th>SP500</th>\n",
       "      <th>EuroStoxx50</th>\n",
       "      <th>MSCI_EM</th>\n",
       "      <th>TotalBond</th>\n",
       "      <th>Treasury</th>\n",
       "      <th>CorpBond</th>\n",
       "      <th>CorpHY</th>\n",
       "      <th>DJRE</th>\n",
       "      <th>WTI</th>\n",
       "      <th>Gold</th>\n",
       "    </tr>\n",
       "    <tr>\n",
       "      <th>Date</th>\n",
       "      <th></th>\n",
       "      <th></th>\n",
       "      <th></th>\n",
       "      <th></th>\n",
       "      <th></th>\n",
       "      <th></th>\n",
       "      <th></th>\n",
       "      <th></th>\n",
       "      <th></th>\n",
       "      <th></th>\n",
       "    </tr>\n",
       "  </thead>\n",
       "  <tbody>\n",
       "    <tr>\n",
       "      <th>1993-01-31</th>\n",
       "      <td>0.007046</td>\n",
       "      <td>0.009714</td>\n",
       "      <td>0.004001</td>\n",
       "      <td>0.019176</td>\n",
       "      <td>0.021462</td>\n",
       "      <td>0.023300</td>\n",
       "      <td>0.029081</td>\n",
       "      <td>0.046364</td>\n",
       "      <td>0.038974</td>\n",
       "      <td>-0.005979</td>\n",
       "    </tr>\n",
       "    <tr>\n",
       "      <th>1993-02-28</th>\n",
       "      <td>0.010484</td>\n",
       "      <td>0.081271</td>\n",
       "      <td>0.015940</td>\n",
       "      <td>0.017505</td>\n",
       "      <td>0.020059</td>\n",
       "      <td>0.022957</td>\n",
       "      <td>0.017634</td>\n",
       "      <td>0.021312</td>\n",
       "      <td>0.016782</td>\n",
       "      <td>-0.009023</td>\n",
       "    </tr>\n",
       "    <tr>\n",
       "      <th>1993-03-31</th>\n",
       "      <td>0.018697</td>\n",
       "      <td>0.011043</td>\n",
       "      <td>0.031348</td>\n",
       "      <td>0.004167</td>\n",
       "      <td>0.003318</td>\n",
       "      <td>0.003496</td>\n",
       "      <td>0.012863</td>\n",
       "      <td>0.078687</td>\n",
       "      <td>-0.007767</td>\n",
       "      <td>0.028832</td>\n",
       "    </tr>\n",
       "    <tr>\n",
       "      <th>1993-04-30</th>\n",
       "      <td>-0.025417</td>\n",
       "      <td>-0.023290</td>\n",
       "      <td>0.017567</td>\n",
       "      <td>0.006963</td>\n",
       "      <td>0.007849</td>\n",
       "      <td>0.007698</td>\n",
       "      <td>0.008725</td>\n",
       "      <td>-0.040679</td>\n",
       "      <td>0.004403</td>\n",
       "      <td>0.050147</td>\n",
       "    </tr>\n",
       "    <tr>\n",
       "      <th>1993-05-31</th>\n",
       "      <td>0.022717</td>\n",
       "      <td>-0.000494</td>\n",
       "      <td>0.019370</td>\n",
       "      <td>0.001273</td>\n",
       "      <td>-0.001225</td>\n",
       "      <td>0.001178</td>\n",
       "      <td>0.011882</td>\n",
       "      <td>0.004862</td>\n",
       "      <td>-0.024842</td>\n",
       "      <td>0.075843</td>\n",
       "    </tr>\n",
       "  </tbody>\n",
       "</table>\n",
       "</div>"
      ],
      "text/plain": [
       "               SP500  EuroStoxx50   MSCI_EM  TotalBond  Treasury  CorpBond  \\\n",
       "Date                                                                         \n",
       "1993-01-31  0.007046     0.009714  0.004001   0.019176  0.021462  0.023300   \n",
       "1993-02-28  0.010484     0.081271  0.015940   0.017505  0.020059  0.022957   \n",
       "1993-03-31  0.018697     0.011043  0.031348   0.004167  0.003318  0.003496   \n",
       "1993-04-30 -0.025417    -0.023290  0.017567   0.006963  0.007849  0.007698   \n",
       "1993-05-31  0.022717    -0.000494  0.019370   0.001273 -0.001225  0.001178   \n",
       "\n",
       "              CorpHY      DJRE       WTI      Gold  \n",
       "Date                                                \n",
       "1993-01-31  0.029081  0.046364  0.038974 -0.005979  \n",
       "1993-02-28  0.017634  0.021312  0.016782 -0.009023  \n",
       "1993-03-31  0.012863  0.078687 -0.007767  0.028832  \n",
       "1993-04-30  0.008725 -0.040679  0.004403  0.050147  \n",
       "1993-05-31  0.011882  0.004862 -0.024842  0.075843  "
      ]
     },
     "execution_count": 4,
     "metadata": {},
     "output_type": "execute_result"
    }
   ],
   "source": [
    "df.head(5)"
   ]
  },
  {
   "cell_type": "markdown",
   "metadata": {},
   "source": [
    "The indices we use in our analysis are the following:\n",
    "\n",
    "*Equities:*\n",
    "- SP500 - S&P 500\n",
    "- EuroStoxx50 - EuroStoxx 50 (European stock market)\n",
    "- MSCI_EM - MSCI Emerging Markets\n",
    "\n",
    "*Fixed Income:*\n",
    "- TotalBond -  Barclays Capital U.S. Aggregate Bond Index\n",
    "- Treasury - Barclays U.S. Treasury Bond Index\n",
    "- CorpHY - Barclays U.S. Corporate High Yield Bonds \n",
    "- CorpBond - Barclays U.S. Corporate Investment Grade Bonds \n",
    "\n",
    "*Real Estate:*\n",
    "- DJRE - Dow Jones Global Real Estate\n",
    "\n",
    "*Commodities:*\n",
    "- WTI - WTI Oil prices \n",
    "- Gold - Gold prices \n"
   ]
  },
  {
   "cell_type": "markdown",
   "metadata": {},
   "source": [
    "### Risk vs. Return"
   ]
  },
  {
   "cell_type": "markdown",
   "metadata": {},
   "source": [
    "One of the key premises of the modern portfolio theory is that the assets should be evaluated on the ratio of the expected return and expected risk, measured as a standard deviation of returns.\n",
    "\n",
    "In our further analysis, for illustration purposes, we use historical returns and risk as proxies of the expected returns and risk. One can argue that with the absence of the crystal ball, long-term historical return can be viewed as an optimal measure.\n",
    "Let us plot the annualized return and risk characteristics of each asset class.\n"
   ]
  },
  {
   "cell_type": "code",
   "execution_count": 5,
   "metadata": {},
   "outputs": [
    {
     "data": {
      "image/png": "[encoded data removed]",
      "text/plain": [
       "<matplotlib.figure.Figure at 0x2695ecccdd8>"
      ]
     },
     "metadata": {},
     "output_type": "display_data"
    }
   ],
   "source": [
    "# Calculate annualized returns\n",
    "mean_df = df.mean()*12   \n",
    "\n",
    "#Calculate annualized risk\n",
    "stdev_df = df.std()*((12)**(1/2)) \n",
    "\n",
    "#Create dataframe for the plot\n",
    "for_plot = pd.DataFrame([mean_df,stdev_df], index=['Return', 'Risk']).T   \n",
    "\n",
    "#Scatter plot\n",
    "plt.scatter(for_plot.Risk, for_plot.Return, c='maroon', label=for_plot.columns) \n",
    "    \n",
    "    \n",
    "# Put labels\n",
    "labels = list(for_plot.index.values)\n",
    "    \n",
    "for label, x, y in zip(labels, for_plot.Risk, for_plot.Return):\n",
    "    plt.annotate(\n",
    "            label,\n",
    "            xy=(x, y), xytext=(3,3),\n",
    "            textcoords='offset points', ha='left', va='center')\n",
    "\n",
    "\n",
    "#Make it pretty (Title, subtitles, axes lables)\n",
    "plt.suptitle('Historical Risk/Return', fontsize=18)\n",
    "plt.title('1993 - 2017', fontsize=12)\n",
    "plt.xlabel('Risk (st.deviation)', fontsize=12)\n",
    "plt.ylabel('Return', fontsize=12)\n",
    "plt.xlim(0,0.35)\n",
    "plt.ylim(0, 0.15)\n",
    "\n",
    "#Save graph for future use\n",
    "plt.savefig('Graphs/Risk_Return_93_17.png', dpi=300)\n"
   ]
  },
  {
   "cell_type": "markdown",
   "metadata": {},
   "source": [
    "### Asset portfolio"
   ]
  },
  {
   "cell_type": "markdown",
   "metadata": {},
   "source": [
    "According to the modern portfolio theory, when assets are combined in a portfolio, we can extract the benefits of diversification. This feature results from the fact that the return of the portfolio is calculated as a weighted average return, while risk calculation takes into account the correlation among the assets.\n",
    "\n",
    "For simplicity, let us illustrate it with the portfolio of two assets.\n",
    "\n",
    "Portfolio return is calculated as: \n",
    "\n",
    "$$\n",
    "R_p = w_1R_1 + w_2R_2\\qquad\\ , where \\\\\n",
    "\\\\\n",
    "R_p - portfolio\\space return\\\\\n",
    "w_1, w_2 - weights\\space of\\space assets\\space in\\space the\\space portfolio\\\\\n",
    "R_1, R_2 - returns\\space of\\space assets\\space in\\space the\\space portfolio\\\\\n",
    "$$\n",
    "\n",
    "Risk, or standard deviation of returns, is calculated as: \n",
    "\n",
    "\n",
    "\n",
    "$$\\sigma_p  = \\sqrt{w^2_1\\sigma^2_1 + w^2_2\\sigma^2_2 + 2w_1w_2\\rho_{1,2}\\sigma_1\\sigma_2}\\qquad , where\\\\\n",
    "\\sigma_p - portfolio\\space standard\\space deviation\\space of\\space returns\\\\\n",
    "w_1, w_2 - weights\\space of\\space assets\\space in\\space the\\space portfolio\\\\\n",
    "\\sigma_1, \\sigma_2 - standard\\space deviation\\space of\\space asset\\space returns\\space in\\space the\\space portfolio\\\\\n",
    "\\rho_{1,2} - correlation\\space between\\space asset\\space returns\n",
    "$$\n",
    "\n",
    "\n",
    "By plugging in the formula for correlation, we can rewrite the equation as:\n",
    "\n",
    "$$\n",
    "\\sigma_p  = \\sqrt{w^2_1\\sigma^2_1 + w^2_2\\sigma^2_2 + 2w_1w_2Cov_{1,2}}\\qquad , where \\\\\n",
    "\\\\\n",
    "Cov_{1,2} - covariance\\space of\\space asset\\space returns\n",
    "$$\n",
    "\n",
    "For multiple assets, the portfolio return calculation is quite straightforward:\n",
    "\n",
    "$$\n",
    "R_p  = \\sum_{i=1}^{n} w_i * R_i \\\\\n",
    "\\\\\n",
    "$$\n",
    "\n",
    "Or in a matrix form:\n",
    "\n",
    "$$\n",
    "R_p  = W^TR\\space, where \\\\\n",
    "\\\\\n",
    "\\\\\n",
    "W - is\\space an\\space array\\space of\\space asset\\space weights\\\\\n",
    "R - is\\space an\\space array\\space of\\space asset\\space returns\\\\\n",
    "$$\n",
    "\n",
    "The calculation of the portfolio standard deviation is better done via matrix algebra:\n",
    "\n",
    "$$\n",
    "\\sigma_p  = \\sqrt{W^TCW} \\qquad\\ , where \\\\\\\\\n",
    "W - array\\space of\\space asset\\space weights\\\\\n",
    "C - asset\\space returns\\space covariance\\space matrix\\\\\n",
    "$$\n",
    "\n",
    "\n",
    "\n"
   ]
  },
  {
   "cell_type": "markdown",
   "metadata": {},
   "source": [
    "Let us define a Python function that calculates portfolio return and standard deviation of returns."
   ]
  },
  {
   "cell_type": "code",
   "execution_count": 6,
   "metadata": {},
   "outputs": [],
   "source": [
    "def calcPortPerformance(weights, mean_ret, cov_matrix):\n",
    "    '''\n",
    "    This function calculates portfolio return and risk (standard deviation of returns)\n",
    "    \n",
    "    ARGUMENTS:\n",
    "    weights - array of asset weights in the portfolio. Must sum up to 1.0\n",
    "    mean_ret - array of assets mean returns. Better to use annualized\n",
    "    cov_matrix - covariance matrix of assets returns. Better to use annualized\n",
    "    \n",
    "    \n",
    "    OUTPUT:\n",
    "    A tuple containing:\n",
    "    portRet - portfolio return\n",
    "    portRisk - portfolio risk\n",
    "       \n",
    "    '''\n",
    "    \n",
    "    \n",
    "    portRet = weights.T.dot(mean_ret)\n",
    "    portRisk = np.sqrt(weights.T.dot(cov_matrix.dot(weights)))\n",
    "    \n",
    "    return portRet, portRisk\n",
    "        \n",
    "    "
   ]
  },
  {
   "cell_type": "markdown",
   "metadata": {},
   "source": [
    "For illustration, let's calculate the portfolio performance, assuming we held:\n",
    "- 60% in S&P500\n",
    "- 30% in Total Bond Index\n",
    "- 10% in DJRE (Real estate)\n",
    "\n",
    "For simplicity, we assume that we bought this portfolio on Jan 1, 1993, and held it until December 31, 2017, without any rebalancing."
   ]
  },
  {
   "cell_type": "code",
   "execution_count": 7,
   "metadata": {},
   "outputs": [
    {
     "data": {
      "text/html": [
       "<div>\n",
       "<style scoped>\n",
       "    .dataframe tbody tr th:only-of-type {\n",
       "        vertical-align: middle;\n",
       "    }\n",
       "\n",
       "    .dataframe tbody tr th {\n",
       "        vertical-align: top;\n",
       "    }\n",
       "\n",
       "    .dataframe thead th {\n",
       "        text-align: right;\n",
       "    }\n",
       "</style>\n",
       "<table border=\"1\" class=\"dataframe\">\n",
       "  <thead>\n",
       "    <tr style=\"text-align: right;\">\n",
       "      <th></th>\n",
       "      <th>SP500</th>\n",
       "      <th>TotalBond</th>\n",
       "      <th>DJRE</th>\n",
       "      <th>Portfolio</th>\n",
       "    </tr>\n",
       "  </thead>\n",
       "  <tbody>\n",
       "    <tr>\n",
       "      <th>Return</th>\n",
       "      <td>0.083054</td>\n",
       "      <td>0.053917</td>\n",
       "      <td>0.112414</td>\n",
       "      <td>0.077249</td>\n",
       "    </tr>\n",
       "    <tr>\n",
       "      <th>Risk</th>\n",
       "      <td>0.141611</td>\n",
       "      <td>0.035343</td>\n",
       "      <td>0.187218</td>\n",
       "      <td>0.098387</td>\n",
       "    </tr>\n",
       "  </tbody>\n",
       "</table>\n",
       "</div>"
      ],
      "text/plain": [
       "           SP500  TotalBond      DJRE  Portfolio\n",
       "Return  0.083054   0.053917  0.112414   0.077249\n",
       "Risk    0.141611   0.035343  0.187218   0.098387"
      ]
     },
     "execution_count": 7,
     "metadata": {},
     "output_type": "execute_result"
    }
   ],
   "source": [
    "df_tmp = df.loc[:, ['SP500','TotalBond','DJRE']]   #Select assets\n",
    "\n",
    "weights = np.array([0.6, 0.3, 0.1])\n",
    "mean_ret = df_tmp.mean() * 12  #Annualized mean return\n",
    "stdev_ret = df_tmp.std() *(np.sqrt(12)) # Annualized st dev of returns\n",
    "cov_matrix = df_tmp.cov() * 12 #Annualized covariance matrix\n",
    "\n",
    "\n",
    "#Calculate portfolio performance\n",
    "portRet, portRisk = calcPortPerformance(weights, mean_ret, cov_matrix)\n",
    "\n",
    "\n",
    "#Create a pretty dataframe for comparison\n",
    "port_df = pd.DataFrame({'Portfolio':[portRet, portRisk]}, index = ['Return','Risk'])\n",
    "\n",
    "result = pd.DataFrame([mean_ret.T, stdev_ret.T], index = ['Return','Risk']).join(port_df)\n",
    "\n",
    "result\n"
   ]
  },
  {
   "cell_type": "markdown",
   "metadata": {},
   "source": [
    "As you can see, combining assets into a portfolio significantly decreased the risk, and less so the return of the portfolio.\n",
    "\n",
    "The combined portfolio has an annual return of 7.7% with a standard deviation of returns of 9.8%. Thus, the portfolio return is not much lower than the stock return for the period (9.8%), while the risk of the portfolio is significantly lower than the stock market risk (14.2%).\n"
   ]
  },
  {
   "cell_type": "markdown",
   "metadata": {},
   "source": [
    "### Efficient frontier"
   ]
  },
  {
   "cell_type": "markdown",
   "metadata": {},
   "source": [
    "We can combine different assets in a number of various portfolios.\n",
    "\n",
    "Let us numerically simulate risk and return profiles of portfolios comprised of:\n",
    "\n",
    "- S&P 500 Index\n",
    "- Total Bond Index\n",
    "- DJRE (Real Estate)\n",
    "\n",
    "We will keep using monthly returns for the period 1993 – 2017. All results will be annualized for convenience."
   ]
  },
  {
   "cell_type": "code",
   "execution_count": 8,
   "metadata": {},
   "outputs": [],
   "source": [
    "def simPortfolios(mean_ret, cov_matrix, nsim=10000, constrained = True):\n",
    "    '''\n",
    "    This function simulates portfolio return and risk for varios random portfolio weights distributions.\n",
    "    \n",
    "      \n",
    "    ARGUMENTS:\n",
    "    mean_ret - array of assets mean returns. Better to use annualized\n",
    "    cov_matrix - covariance matrix of assets returns. Better to use annualized\n",
    "    nsim - number of simulations. By default - 10000 simulations\n",
    "    constrained - boolean. If True, the portfolio weights are constrained to sum-up to 1\n",
    "    \n",
    "    OUTPUT:\n",
    "    result - resulting dataframe with columns 'Return' and 'Risk' for each simulation. Return and risk are annualized \n",
    "             portfolio return and risk.  \n",
    "    \n",
    "    \n",
    "    DEPENDENCIES:\n",
    "    - calcPortPerformance\n",
    "    \n",
    "    '''\n",
    "    \n",
    "    n_assets = mean_ret.shape[0] #Get number of assets\n",
    "    \n",
    "\n",
    "    #Create empty DataFrame\n",
    "    result = pd.DataFrame({'Return': [None] * nsim,\n",
    "                           'Risk': [None] * nsim})\n",
    "    \n",
    "    #Simulate portfolios performance and populate the resulting dataframe\n",
    "    if constrained:\n",
    "        for i in range(nsim):\n",
    "            weights = np.random.rand(n_assets)  #Simulate normal distribution\n",
    "            weights = weights/sum(weights)      #Make sure that weights add up to 1.0\n",
    "        \n",
    "            portRet, portRisk = calcPortPerformance(weights, mean_ret, cov_matrix)\n",
    "        \n",
    "            result.iloc[i, :] = [portRet, portRisk]\n",
    "            \n",
    "    else:\n",
    "        for i in range(nsim):\n",
    "            weights = np.random.uniform(-1,1,n_assets)  #Simulate normal distribution\n",
    "        \n",
    "            portRet, portRisk = calcPortPerformance(weights, mean_ret, cov_matrix)\n",
    "        \n",
    "            result.iloc[i, :] = [portRet, portRisk]\n",
    "    \n",
    "    return result\n",
    "\n",
    "        "
   ]
  },
  {
   "cell_type": "markdown",
   "metadata": {},
   "source": [
    "Let's simulate and plot portfolio returns and risk. \n",
    "\n",
    "*This step may take some time (you can take a coffee break, while it is calculating).*"
   ]
  },
  {
   "cell_type": "code",
   "execution_count": 9,
   "metadata": {},
   "outputs": [
    {
     "data": {
      "image/png": "[encoded data removed]",
      "text/plain": [
       "<matplotlib.figure.Figure at 0x2695bbb9128>"
      ]
     },
     "metadata": {},
     "output_type": "display_data"
    }
   ],
   "source": [
    "np.random.seed(123) #Set seed for replicability\n",
    "\n",
    "df_tmp = df.loc[:, ['SP500','TotalBond','DJRE']]   #Select assets\n",
    "\n",
    "n_assets = df_tmp.shape[1] \n",
    "\n",
    "mean_ret = df_tmp.mean() * 12  #Annualized mean return\n",
    "stdev_ret = df_tmp.std() *(np.sqrt(12)) # Annualized st dev of returns\n",
    "cov_matrix = df_tmp.cov() * 12 #Annualized covariance matrix\n",
    "\n",
    "port_combinations_constrained = simPortfolios(mean_ret, cov_matrix, nsim=30000, constrained=True)  #Simulate return and risk\n",
    "\n",
    "#Scatter plot of possible combinations (unconstrained)\n",
    "plt.scatter(port_combinations_constrained.Risk, port_combinations_constrained.Return, c='maroon', label=for_plot.columns) \n",
    "\n",
    "#Scater plot of asset returns and risks (100% portfolio weights)\n",
    "for_plot = pd.DataFrame([mean_ret,stdev_ret], index=['Return', 'Risk']).T   \n",
    "\n",
    "#Scatter plot\n",
    "plt.scatter(for_plot.Risk, for_plot.Return, c='yellow', label=for_plot.columns) \n",
    "    \n",
    "# Put labels\n",
    "labels = list(for_plot.index.values)\n",
    "    \n",
    "for label, x, y in zip(labels, for_plot.Risk, for_plot.Return):\n",
    "    plt.annotate(\n",
    "            label,\n",
    "            xy=(x, y), xytext=(3,3),\n",
    "            textcoords='offset points', ha='left', va='center')\n",
    "\n",
    "    \n",
    "#Make it pretty (Title, subtitles, axes lables)\n",
    "plt.suptitle('Simulated portfolio combinations (constrained)', fontsize=18)\n",
    "plt.title('1993 - 2017', fontsize=12)\n",
    "plt.xlabel('Risk (st.deviation)', fontsize=12)\n",
    "plt.ylabel('Return', fontsize=12)\n",
    "plt.xlim(0,0.25)\n",
    "plt.ylim(0, 0.15)\n",
    "\n",
    "#Save graph for future use\n",
    "plt.savefig('Graphs/Port_Comb_constr_93_17.png', dpi=300)"
   ]
  },
  {
   "cell_type": "markdown",
   "metadata": {},
   "source": [
    "The upper bound of our simulation represents the “Efficient Frontier,” a combination of portfolios that offer maximum return for a given risk.\n",
    "\n",
    "Finding the weights of assets on the Efficient Frontier is an optimization problem, where for a given level of return we find the optimal portfolio weights that minimize the variance. This optimization task for the unconstrained portfolio has a closed-form solution.\n",
    "\n",
    "First, we find minimum variance corresponding to a target portfolio return taking into account asset returns and covariance.\n",
    "\n",
    "\n",
    "$$\n",
    "\\\\\n",
    "\\sigma_{p}^2  = \\lambda_1 + \\lambda_2R \\\\\n",
    "\\\\\n",
    "\\\\\\lambda_1 = \\dfrac{c - b\\mu_p} {\\Delta}\n",
    "\\\\\\lambda_2 = \\dfrac{a\\mu_p - b} {\\Delta}\n",
    "\\\\\n",
    "\\\\a  = \\mathbf{1}^T\\Sigma^{-1}\\mathbf{1}\n",
    "\\\\b  = R^T\\Sigma^{-1}\\mathbf{1}\n",
    "\\\\c  = R^T\\Sigma^{-1}R\n",
    "\\\\\\Delta = ac - b^2 \n",
    "\\\\\n",
    "\\\\, where \\\\\n",
    "\\\\\n",
    "\\sigma_{p}^2 - portfolio\\space variance\n",
    "\\\\R - array\\space of\\space portfolio\\space asset\\space returns\\\\\n",
    "\\Sigma - asset\\space returns\\space covariance\\space matrix\\\\\n",
    "\\mu_p - target\\space portfolio\\space return\\\\\n",
    "\\\\\n",
    "$$\n",
    "\n",
    "Knowing the minimum variance for the given portfolio return, we can now calculate the weights of the assets on the efficient frontier as:\n",
    "\n",
    "$$\n",
    "\\\\ W = \\Sigma^{-1}(\\lambda_1\\mathbf1 + \\lambda_2\\mu)\n",
    "\\\\\n",
    "$$\n",
    "\n",
    "On the Efficient Frontier, we can find two important portfolios that can be used for asset allocation:\n",
    "- *Minimum Variance Portfolio (MVP)*. As the name suggests, it is the - portfolio with the lowest standard deviation of retuns.\n",
    "- *Tangency Portfolio (TP)* is the portfolio with the highest Sharpe ratio, calculated for an asset with return $r_i$ and standard deviation of returns $\\sigma_i$, and for a risk-free rate $r_f$ as $\\dfrac{r_i - r_f}{\\sigma_i}$\n",
    "\n",
    "Both portfolios' combinations also have closed-form solutions:\n",
    "\n",
    "$$\n",
    "\\\\ W_{mvp} = \\dfrac{\\Sigma^{-1}\\mathbf1}{\\mathbf1^T\\Sigma^{-1}\\mathbf1}\\\\\n",
    "\\\\ W_{tp} = \\dfrac{\\Sigma^{-1}\\hat{\\mu}}{\\mathbf1^T\\Sigma^{-1}\\hat{\\mu}}\n",
    "\\\\\n",
    "\\\\\\hat{\\mu}  = R - r_f\\cdot{\\mathbf1} \n",
    "\\\\, where\n",
    "\\\\\n",
    "\\\\W_{mvp}, W_{tp}  - asset\\space weights\\space in\\space MVP \\space and\\space TP\\space respectively \n",
    "\\\\r_f - risk\\space free\\space rate\\\\\n",
    "\\\\\n",
    "\\\\\n",
    "$$\n",
    "\n",
    "\n",
    "\n",
    "If you would like to learn more about the derivation of the formula above, you can find a number of publications on the optimization tasks in the modern portfolio theory. Some examples include:\n",
    "- https://faculty.washington.edu/ezivot/econ424/portfolioTheoryMatrix.pdf\n",
    "- https://ocw.mit.edu/courses/mathematics/18-s096-topics-in-mathematics-with-applications-in-finance-fall-2013/lecture-notes/MIT18_S096F13_lecnote14.pdf\n",
    "\n",
    "Please be aware that the authors of these publications can use slightly different notations of the variables.\n",
    "\n"
   ]
  },
  {
   "cell_type": "code",
   "execution_count": 10,
   "metadata": {},
   "outputs": [],
   "source": [
    "def findEfficientFrontier(mean_ret, cov_matrix, target_ret):\n",
    "    '''\n",
    "    Funnction that calculates efficient frontier through the optimization process.\n",
    "\n",
    "    ARGUMENTS:\n",
    "    mean_ret - array of assets mean returns. Better to use annualized\n",
    "    cov_matrix - covariance matrix of assets returns. Better to use annualized\n",
    "    ret - range of returns for which we find efficient frontier portfolios \n",
    "\n",
    "    OUTPUT:\n",
    "    ef_Risk - standard deviation of efficient portfolio expected returns\n",
    "    w_ef - array of efficient portfolio weights in a given return range\n",
    "   \n",
    "    '''\n",
    "    \n",
    "    mu = np.array(mean_ret).reshape((len(mean_ret),1))\n",
    "    Sigma_inv = np.linalg.inv(cov_matrix)  #Find inverse of covariance matrix\n",
    "    ones = np.ones((len(mean_ret),1))      #Array of ones\n",
    "    \n",
    "    #Calculate constants\n",
    "    a = float(ones.T.dot(Sigma_inv).dot(ones))\n",
    "    b = float(mean_ret.T.dot(Sigma_inv).dot(ones))\n",
    "    c = float(mean_ret.T.dot(Sigma_inv).dot(mean_ret))\n",
    "    \n",
    "    #Calculate delta\n",
    "    delta = a*c - b**2\n",
    "    \n",
    "    #Calculate lambdas\n",
    "    lambda_1 = (c - b * target_ret) / delta \n",
    "    lambda_2 = (a*target_ret - b) / delta\n",
    "    \n",
    "    #Find expected variance of the efficiant portfolio\n",
    "    ef_Var = lambda_1 + lambda_2 * target_ret\n",
    "    ef_Risk = np.sqrt(ef_Var)\n",
    "    \n",
    "    \n",
    "    #Find EF weights\n",
    "    \n",
    "    w_ef = Sigma_inv.dot(np.multiply(lambda_1,ones) + np.multiply(lambda_2,mu))\n",
    "        \n",
    "        \n",
    "    return ef_Risk, w_ef \n",
    "\n",
    "\n",
    "def findMVPort(mean_ret, cov_matrix):\n",
    "    '''\n",
    "    Funnction that finds minimum variance portfolio.\n",
    "\n",
    "    ARGUMENTS:\n",
    "    mean_ret - array of assets mean returns. Better to use annualized\n",
    "    cov_matrix - covariance matrix of assets returns. Better to use annualized\n",
    "    \n",
    "\n",
    "    OUTPUT:\n",
    "    w_mv - array of asset weights\n",
    "     \n",
    "    '''\n",
    "    Sigma_inv = np.linalg.inv(cov_matrix)  #Find inverse of covariance matrix\n",
    "    ones = np.ones((len(mean_ret),1))      #Array of ones\n",
    "    \n",
    "    #Calculate weights in minimum variance portfolio\n",
    "    w_m = Sigma_inv.dot(ones) / ones.T.dot(Sigma_inv.dot(ones))\n",
    "    \n",
    "    return w_m\n",
    "    \n",
    "    \n",
    "def findTangPort(mean_ret, cov_matrix, rf_rate):\n",
    "    '''\n",
    "    Funnction that finds minimum variance portfolio.\n",
    "\n",
    "    ARGUMENTS:\n",
    "    mean_ret - array of assets mean returns. Better to use annualized\n",
    "    cov_matrix - covariance matrix of assets returns. Better to use annualized\n",
    "    rf_rate - risk-free rate\n",
    "\n",
    "    OUTPUT:\n",
    "    w_tp - array of asset weights\n",
    "    \n",
    "    '''\n",
    "    \n",
    "    Sigma_inv = np.linalg.inv(cov_matrix)  #Find inverse of covariance matrix\n",
    "    ones = np.ones((len(mean_ret),1))      #Array of ones\n",
    "    mu_hat = np.array(mean_ret).reshape((len(mean_ret), 1)) - np.multiply(rf_rate, ones)\n",
    "    \n",
    "    \n",
    "    \n",
    "    #Calculate weights in minimum variance portfolio\n",
    "    w_tp = Sigma_inv.dot(mu_hat) / ones.T.dot(Sigma_inv.dot(mu_hat))\n",
    "    \n",
    "    return w_tp\n",
    "    "
   ]
  },
  {
   "cell_type": "markdown",
   "metadata": {},
   "source": [
    "Using the same portfolio example, we can calculate and plot the Efficient Frontier, TP, and MVP."
   ]
  },
  {
   "cell_type": "code",
   "execution_count": 11,
   "metadata": {
    "scrolled": true
   },
   "outputs": [
    {
     "data": {
      "image/png": "[encoded data removed]",
      "text/plain": [
       "<matplotlib.figure.Figure at 0x2695f68b6a0>"
      ]
     },
     "metadata": {},
     "output_type": "display_data"
    }
   ],
   "source": [
    "n_points = 500                            #Number of points on the EF line\n",
    "\n",
    "#Calculate risk-free rate\n",
    "ff_factors = pd.read_csv('Data/ff_factors.csv', index_col=0, parse_dates=True)  # Load Fama French factors (http://mba.tuck.dartmouth.edu/pages/faculty/ken.french/data_library.html)\n",
    "rf = 1 + ff_factors['RF'] / 100  #Get daily RF rate\n",
    "rf = rf.groupby([rf.index.year, rf.index.month]).cumprod() - 1   #Calculate compounded monthly rf return\n",
    "rf = rf.resample('M').last() * 12  # Calculate anualized rf return\n",
    "rf = rf.loc['1993':'2017']   #Keep only relevant observations\n",
    "rf = rf.mean()                 # Calculate mean rf rate\n",
    "rf_rate = float(rf)\n",
    "\n",
    "#Find miminum variance portfoio\n",
    "w_m = findMVPort(mean_ret, cov_matrix)\n",
    "mv_Ret, mv_Risk = calcPortPerformance(w_m, mean_ret, cov_matrix)\n",
    "\n",
    "#Find tangency portfolio\n",
    "w_tp = findTangPort(mean_ret, cov_matrix, rf_rate)\n",
    "tp_Ret, tp_Risk = calcPortPerformance(w_tp, mean_ret, cov_matrix)\n",
    "\n",
    "\n",
    "range_ret = np.linspace(mv_Ret, mv_Ret + 0.05, n_points)   #Set return range\n",
    "\n",
    "# EF LINE\n",
    "EL_Risk = []   #Place holders\n",
    "\n",
    "\n",
    "for ret in range_ret:\n",
    "    ef_Risk,ef_weights = findEfficientFrontier(mean_ret, cov_matrix, ret)\n",
    "    EL_Risk.append(ef_Risk)\n",
    "  \n",
    "#Plot frontier and portfolios\n",
    "plt.scatter(port_combinations_constrained.Risk, port_combinations_constrained.Return, c='maroon', label=for_plot.columns) \n",
    "plt.scatter(EL_Risk, range_ret, color = 'black')\n",
    "plt.scatter(mv_Risk, mv_Ret, color = 'yellow')\n",
    "plt.scatter(tp_Risk, tp_Ret, color = 'yellow')\n",
    "\n",
    "#Annotate portfolios\n",
    "\n",
    "plt.annotate('MVP', xy=(float(mv_Risk), float(mv_Ret)), \n",
    "             xytext=(float(mv_Risk)+0.01, float(mv_Ret)-0.01),\n",
    "            arrowprops=dict(facecolor='black', shrink=0.005),\n",
    "            )\n",
    "\n",
    "plt.annotate('TP', xy=(float(tp_Risk), float(tp_Ret)), \n",
    "             xytext=(float(tp_Risk)+0.012, float(tp_Ret)-0.008),\n",
    "            arrowprops=dict(facecolor='black', shrink=0.005),\n",
    "            )\n",
    "\n",
    "#Make it pretty (Title, subtitles, axes lables)\n",
    "plt.suptitle('Efficient Frontier and Tangency Portfolio', fontsize=18)\n",
    "plt.title('1993 - 2017', fontsize=12)\n",
    "plt.xlabel('Risk (st.deviation)', fontsize=12)\n",
    "plt.ylabel('Return', fontsize=12)\n",
    "plt.xlim(0,0.20)\n",
    "plt.ylim(0, 0.15)\n",
    "\n",
    "#Save graph for future use\n",
    "plt.savefig('Graphs/EF_TP_93_17.png', dpi=300)\n",
    "\n",
    "\n",
    "    "
   ]
  },
  {
   "cell_type": "markdown",
   "metadata": {},
   "source": [
    "### Security Market Line"
   ]
  },
  {
   "cell_type": "markdown",
   "metadata": {},
   "source": [
    "Harry Markowitz’s (1952) dissertation paper titled \"Portfolio Selection\" introduced the concept of the efficient frontier. Later, in 1958, James Tobin suggested including risk-free assets in the analysis of the portfolio selection. Traditionally, researchers use the U.S. Treasury bill yield as a proxy for the risk-free rate of return.\n",
    "\n",
    "In 1964, William Sharpe introduced the notion of the Security Market Line (SML) as a combination of the risk-free rate asset and a market portfolio. The idea is that we can take the most efficient portfolio, the tangency portfolio, and adjust expected risk/return profile by borrowing or lending at the risk-free rate of return.\n",
    "\n",
    "Graphically, the resulting combination of portfolios looks like this SML line."
   ]
  },
  {
   "cell_type": "code",
   "execution_count": 12,
   "metadata": {},
   "outputs": [
    {
     "data": {
      "image/png": "[encoded data removed]",
      "text/plain": [
       "<matplotlib.figure.Figure at 0x2696098f898>"
      ]
     },
     "metadata": {},
     "output_type": "display_data"
    }
   ],
   "source": [
    "# Calculate SML\n",
    "sml = pd.DataFrame({'Risk':np.linspace(0,0.12,100)})      # Create a placeholder for SML line\n",
    "sml_slope = (float(tp_Ret) - rf) / float(tp_Risk)  #Calculate SML line slope\n",
    "sml['Return'] = rf + sml_slope * sml['Risk']            # Build SML line returns\n",
    "\n",
    "\n",
    "#Plot SML\n",
    "plt.scatter(port_combinations_constrained.Risk, port_combinations_constrained.Return, c='maroon', label=for_plot.columns) \n",
    "plt.scatter(EL_Risk, range_ret, color = 'black')\n",
    "plt.scatter(tp_Risk, tp_Ret, color = 'yellow')\n",
    "plt.plot(sml.Risk, sml.Return, color = 'red', lw=5)\n",
    "\n",
    "\n",
    "#Annotate portfolios\n",
    "\n",
    "plt.annotate('TP', xy=(float(tp_Risk), float(tp_Ret)), \n",
    "             xytext=(float(tp_Risk)+0.012, float(tp_Ret)-0.008),\n",
    "            arrowprops=dict(facecolor='black', shrink=0.005),\n",
    "            )\n",
    "\n",
    "\n",
    "plt.annotate('RF rate', xy=(0, rf), \n",
    "             xytext=(0 + 0.012, rf -0.008),\n",
    "            arrowprops=dict(facecolor='black', shrink=0.005),\n",
    "            )\n",
    "\n",
    "\n",
    "#Find SML x,y coordinates\n",
    "sml_x = 0.1\n",
    "sml_y = rf + sml_slope * sml_x \n",
    "\n",
    "\n",
    "plt.annotate('SML', xy=(sml_x, sml_y), \n",
    "             xytext=(sml_x+0.008, sml_x-0.005),\n",
    "            arrowprops=dict(facecolor='black', shrink=0.005),\n",
    "            )\n",
    "\n",
    "\n",
    "#Make it pretty (Title, subtitles, axes lables)\n",
    "plt.suptitle('Security Market Line', fontsize=18)\n",
    "plt.title('1993 - 2017', fontsize=12)\n",
    "plt.xlabel('Risk (st.deviation)', fontsize=12)\n",
    "plt.ylabel('Return', fontsize=12)\n",
    "plt.xlim(0,0.25)\n",
    "plt.ylim(0, 0.15)\n",
    "\n",
    "#Save graph for future use\n",
    "plt.savefig('Graphs/SML_93_17.png', dpi=300)"
   ]
  },
  {
   "cell_type": "markdown",
   "metadata": {},
   "source": [
    "We can see that by combining risk-free rate and the tangency portfolio, we can theoretically create leveraged portfolios that deliver better return at the given level of risk compared to portfolios on the Efficient Frontier. Alternatively, we can say that some combinations of leveraged tangency portfolios deliver the same expected return as portfolios on the Efficient Frontier, but with lower expected risk."
   ]
  },
  {
   "cell_type": "markdown",
   "metadata": {},
   "source": [
    "### Challenges of practical implementation"
   ]
  },
  {
   "cell_type": "markdown",
   "metadata": {},
   "source": [
    "So far, the theory looks nice and coherent. However, the main challenge in the direct implementation of this approach to portfolio selection is that we do not know the future risk and return profiles of various asset classes. Relying just on historical values creates a risk of suboptimal asset allocation.\n",
    "\n",
    "To illustrate it, let us assume that we again hold the portfolio of S&P500, TotalBond Index, and Corporate High Yield Bonds index. Now let's see how the combination of the tangency portfolio would have changed for each 5-year subperiod in our sample\n"
   ]
  },
  {
   "cell_type": "code",
   "execution_count": 13,
   "metadata": {},
   "outputs": [
    {
     "data": {
      "image/png": "[encoded data removed]",
      "text/plain": [
       "<matplotlib.figure.Figure at 0x2695f74a828>"
      ]
     },
     "metadata": {},
     "output_type": "display_data"
    }
   ],
   "source": [
    "start_years = np.linspace(1993, 2014, 5).astype('int')  # Set beginning of the period\n",
    "\n",
    "#Calculate RF rate\n",
    "rf = 1 + ff_factors['RF'] / 100  #Get daily RF rate\n",
    "rf = rf.groupby([rf.index.year, rf.index.month]).cumprod() - 1   #Calculate compounded monthly rf return\n",
    "rf = rf.resample('M').last() * 12  # Calculate anualized rf return\n",
    "\n",
    "\n",
    "#Create dataframe with tangency portfolio weights\n",
    "tp_df = pd.DataFrame(columns=df_tmp.columns)  #Placeholder\n",
    "\n",
    "\n",
    "#Loop over periods\n",
    "for i in range(len(start_years)):\n",
    "    tmp = df_tmp.loc[str(start_years[i]) : str(start_years[i] + 4),:] # Select period\n",
    "    \n",
    "    mean_ret = tmp.mean() * 12     # Calculate mean returns\n",
    "    cov_matrix = tmp.cov() * 12    # Calculate covariance matrix\n",
    "    \n",
    "    tmp_index = str(start_years[i]) + '-' + str(start_years[i] + 4) #Create names for the graph\n",
    "        \n",
    "    #Find RF rate for the period\n",
    "    rf_rate = rf.loc[str(start_years[i]) : str(start_years[i] + 4)]   #Keep only relevant observations\n",
    "    rf_rate = rf_rate.mean()                 # Calculate mean rf rate\n",
    "    rf_rate = float(rf_rate)\n",
    "    \n",
    "    #Find tangency portfolio composition\n",
    "    w_tp = findTangPort(mean_ret, cov_matrix, rf_rate)\n",
    "        \n",
    "    #Create data frame for the plot\n",
    "    tp_df = tp_df.append(pd.DataFrame(w_tp.reshape((1,len(df_tmp.columns))), \n",
    "                                      index = [tmp_index], columns=df_tmp.columns))\n",
    "        \n",
    "\n",
    "#Plot weights\n",
    "plt.plot(tp_df['SP500'], color='black', label='S&P 500')\n",
    "plt.plot(tp_df['TotalBond'], color='maroon', label='Total Bond')\n",
    "plt.plot(tp_df['DJRE'], color='red', label='Real Estate (DJRE)')\n",
    "\n",
    "\n",
    "#Make it pretty (Title, subtitles, axes lables)\n",
    "plt.suptitle('Tangency Portfolio Composition', fontsize=18)\n",
    "plt.title('1993 - 2017', fontsize=12)\n",
    "plt.xlabel('Period', fontsize=12)\n",
    "plt.ylabel('Weight', fontsize=12)\n",
    "plt.legend()\n",
    "\n",
    "#Save graph for future use\n",
    "plt.savefig('Graphs/TP_composition.png', dpi=300)\n"
   ]
  },
  {
   "cell_type": "markdown",
   "metadata": {},
   "source": [
    "### Conclusion"
   ]
  },
  {
   "cell_type": "markdown",
   "metadata": {},
   "source": [
    "The modern portfolio theory presents a framework for efficient asset allocation.\n",
    "\n",
    "Financial data is notoriously non-stationary, i.e., the distribution of asset returns changes with time. Therefore, we should keep in mind that the theory operates with expected asset returns and expected risk. Using historical data may lead to suboptimal allocation decisions.\n",
    "\n",
    "Having said that, once we have a view on future distribution returns, the theory will allow us to calculate the optimal portfolio weights. This way we maximize the expected portfolio return for a given level of risk.\n",
    "Another important takeaway is the ability to create leveraged portfolios beyond the Efficient Frontier by utilizing the Tangency Portfolio. We will talk more about the Security Market Line in the post dealing with CAPM and Smart Betas.\n"
   ]
  },
  {
   "cell_type": "markdown",
   "metadata": {},
   "source": [
    "### References"
   ]
  },
  {
   "cell_type": "markdown",
   "metadata": {},
   "source": [
    "*1. Markowitz, Harry. \"Portfolio selection.\" The journal of finance 7.1 (1952): 77-91.*\n",
    "\n",
    "*2. Sharpe, William F. \"Capital asset prices: A theory of market equilibrium under conditions of risk.\" The journal of finance 19.3 (1964): 425-442.*\n",
    "\n",
    "*3. Tobin, James. \"Liquidity preference as behavior towards risk.\" The review of economic studies 25.2 (1958): 65-86.*\n"
   ]
  },
  {
   "cell_type": "markdown",
   "metadata": {},
   "source": [
    "### Reminder"
   ]
  },
  {
   "cell_type": "markdown",
   "metadata": {},
   "source": [
    "**If you choose to use this publication for your own work, please include a reference to this publication and a link leading to this document. **"
   ]
  },
  {
   "cell_type": "markdown",
   "metadata": {},
   "source": [
    "### Disclaimer"
   ]
  },
  {
   "cell_type": "markdown",
   "metadata": {},
   "source": [
    "**Not an Offer or Inducement**\n",
    "\n",
    "*This publication has been prepared for informational purposes only and does not constitute an offer to sell, a solicitation of an offer to buy, or a recommendation of any security or any other product or service by QFL Capital LLC., QFL Holdings Inc., authors of the publication, or any other third party regardless of whether such security, product or service is referenced in this publication. None of the information or analyses presented are intended to form the basis for any investment decision, and no specific recommendations are intended.*\n",
    "\n",
    "*Accordingly, this publication does not constitute investment advice or counsel or solicitation for investment in any security. This publication does not constitute or form part of, and should not be construed as, any offer for sale or subscription of, or any invitation to offer to buy or subscribe for, any securities, nor should it or any part of it form the basis of, or be relied on in any connection with, any contract or commitment whatsoever.*\n",
    "\n",
    "*QFL Capital LLC., QFL Holdings Inc., and authors of the publication expressly disclaim any and all responsibility for any direct or consequential loss or damage of any kind whatsoever arising directly or indirectly from: (i) the use of this site; (ii) reliance on any information contained herein; (iii) any error, omission or inaccuracy in any such information; or (iv) any action resulting therefrom.*\n",
    "\n",
    "\n",
    "**Investment Performance**\n",
    "\n",
    "*Investors should seek financial advice regarding the appropriateness of investing in any securities or investment strategies discussed or recommended in this documentation and should understand that statements regarding future prospects may not be realized. Investors should note that income from such securities may fluctuate and that each security's price or value may rise or fall. Accordingly, investors may receive back less than originally invested.*\n",
    "\n",
    "*Past performance is not necessarily a guide to future performance. In consideration of being permitted access to the publication, the viewer hereby acknowledges having read and understood this agreement and agrees to be bound by its terms and conditions.*\n",
    "\n",
    "**No Warranties**\n",
    "\n",
    "*QFL Capital LLC., QFL Holdings Inc., and authors of the publication take care to ensure that the information provided is accurate and up to date. However, this document is provided without warranties of any kind, either expressed or implied, including but not limited to warranties of title or implied warranties of merchantability or fitness for a particular purpose. Opinions expressed herein are subject to change without notice. All information and content on this publication is furnished \"as is,\" without warranty of any kind, express or implied, including but not limited to implied warranties of merchantability, fitness for a particular purpose, or non-infringement.*"
   ]
  },
  {
   "cell_type": "code",
   "execution_count": null,
   "metadata": {},
   "outputs": [],
   "source": []
  }
 ],
 "metadata": {
  "kernelspec": {
   "display_name": "Python 3",
   "language": "python",
   "name": "python3"
  },
  "language_info": {
   "codemirror_mode": {
    "name": "ipython",
    "version": 3
   },
   "file_extension": ".py",
   "mimetype": "text/x-python",
   "name": "python",
   "nbconvert_exporter": "python",
   "pygments_lexer": "ipython3",
   "version": "3.6.4"
  }
 },
 "nbformat": 4,
 "nbformat_minor": 2
}
