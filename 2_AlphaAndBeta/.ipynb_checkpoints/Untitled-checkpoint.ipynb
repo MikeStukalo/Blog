{
 "cells": [
  {
   "cell_type": "markdown",
   "metadata": {},
   "source": [
    "# Alpha and Smart Beta"
   ]
  },
  {
   "cell_type": "code",
   "execution_count": 21,
   "metadata": {
    "scrolled": true
   },
   "outputs": [
    {
     "data": {
      "text/html": [
       "<script>\n",
       "code_show=true; \n",
       "function code_toggle() {\n",
       " if (code_show){\n",
       " $('div.input').hide();\n",
       " } else {\n",
       " $('div.input').show();\n",
       " }\n",
       " code_show = !code_show\n",
       "} \n",
       "$( document ).ready(code_toggle);\n",
       "</script>\n",
       "<form action=\"javascript:code_toggle()\"><input type=\"submit\" value=\"Click here to toggle on/off the raw code.\"></form>"
      ],
      "text/plain": [
       "<IPython.core.display.HTML object>"
      ]
     },
     "execution_count": 21,
     "metadata": {},
     "output_type": "execute_result"
    }
   ],
   "source": [
    "from IPython.display import HTML\n",
    "\n",
    "\n",
    "HTML('''<script>\n",
    "code_show=true; \n",
    "function code_toggle() {\n",
    " if (code_show){\n",
    " $('div.input').hide();\n",
    " } else {\n",
    " $('div.input').show();\n",
    " }\n",
    " code_show = !code_show\n",
    "} \n",
    "$( document ).ready(code_toggle);\n",
    "</script>\n",
    "<form action=\"javascript:code_toggle()\"><input type=\"submit\" value=\"Click here to toggle on/off the raw code.\"></form>''')"
   ]
  },
  {
   "cell_type": "code",
   "execution_count": 23,
   "metadata": {},
   "outputs": [],
   "source": [
    "import pandas as pd\n",
    "import numpy as np\n",
    "import scipy.optimize as sco\n",
    "import matplotlib.pyplot as plt\n",
    "import datetime as dt\n",
    "\n",
    "\n",
    "from matplotlib import style\n",
    "import matplotlib as mpl\n",
    "import matplotlib.font_manager as fm\n",
    "\n",
    "style.use('ggplot')\n",
    "font = fm.FontProperties(fname='Font/helvetica.ttf')\n",
    "mpl.rcParams['font.family'] = font.get_name()\n",
    "\n",
    "\n",
    "import warnings\n",
    "warnings.filterwarnings('ignore')\n",
    "\n"
   ]
  },
  {
   "cell_type": "markdown",
   "metadata": {},
   "source": [
    "## CAPM"
   ]
  },
  {
   "cell_type": "markdown",
   "metadata": {},
   "source": [
    "This blog post is an extension of the previous one [INSERT LINK HERE] .\n",
    "\n",
    "We looked at the Efficient Frontier, and caclulated the Tengency Portfolio and constructed the Security Market Line (SML). \n",
    "\n",
    "It is easy to see that the SML can be described by a linear equation:\n",
    "\n",
    "$$\n",
    "\\begin{align}\n",
    "\\\\R_p &= R_f + \\beta (R_m - R_f) + \\epsilon,\\quad where\n",
    "\\\\\n",
    "\\\\R_p &- expected\\space return\\space of\\space the\\space portfolio\\space or\\space stock\n",
    "\\\\R_f &- risk\\space free\\space rate\\space\n",
    "\\\\R_m &- expected\\space return\\space of\\space the\\space market\\space portfolio\\space\n",
    "\\end{align}\n",
    "$$\n",
    "\n",
    "In the case of the SML the market portfolio was represented by the Tangency Portfolio.\n",
    "\n",
    "In fact, this equation represents the key equation of the Capital Asset Pricing Model (CAPM). This model was built upon Harry Markowitz (1952) work, and suggested by a number of scholars working independently, but most often attributed to William F. Sharpe (1964).\n",
    "\n",
    "In practice, when analyzing stock returns, analysts usually use a broad market index, i.e. S&P500, as a proxy of the market return ($R_m$).\n",
    "\n",
    "This framework allows us to look at the stock/portfolio return from the point of view of the risk premium. We can say that the expected return is determined by:\n",
    "- the risk-free rate ($R_f$), \n",
    "- the Equity Premium ($R_m - R_f$), \n",
    "- the measure of the correlation/exposure of the portfolio to the market ($\\beta$), \n",
    "- and, finally, by an idiosyncratic risk of a certain stock/portfolio ($\\epsilon$).\n",
    "\n",
    "The indtoduction of the CAPM made the life of asset managers a bit harder. From the analytical framework it is clear, that 'beating the market' can be achived in three ways: \n",
    "\n",
    "1) Increasing the exposure to market ($\\beta > 1 $ ), if the market grows. But by doing so, a manager increases the risk of the downfall if the market suddenly declines. \n",
    "\n",
    "2) Timing the market, i.e. increasing or decreasing $\\beta$, based on market expectations.\n",
    "\n",
    "3) Finding idiosyncratic risks ($\\epsilon$) that pay off. \n",
    "\n",
    "We can transform the CAPM equation into an equation that describes the sources of the portfolio income as:\n",
    "\n",
    "$$\n",
    "\\begin{align}\n",
    "\\\\R_p - R_f &= \\alpha + \\beta (R_m - R_f)\n",
    "\\end{align}\n",
    "$$\n",
    "\n",
    "Here, $\\alpha$ is a measure of a manager's skill to either time the market or to select companies, based on their idiosyncratic risks. Clearly, the managers that just use high market exposure (high $\\beta$), should not be rewarded extra for basically providing a market exposure. Therefore, for some time the term 'beta' became almost derogatory term in asset management circles. \n",
    "\n",
    "\n",
    "\n"
   ]
  },
  {
   "cell_type": "markdown",
   "metadata": {},
   "source": [
    "## Multi-factor models (Smart-beta)"
   ]
  },
  {
   "cell_type": "markdown",
   "metadata": {},
   "source": [
    "The attitude changed somewhat after Fama and French (1992) observed that the idiosyncratic risk ($\\epsilon$) can be further dissected into other types of risks inherent for stocks. This way (INSERT EQUATION NUMBER) is transormed into:\n",
    "\n",
    "$$\n",
    "\\begin{align}\n",
    "\\\\R_p - R_f &= \\alpha + \\beta (R_m - R_f) + \\sum{\\beta R_{factors}},\\quad where\\\\\n",
    "\\\\ R_{factors} &- expected\\space returns\\space of\\space risk\\space factors\n",
    "\\end{align}\n",
    "$$\n",
    "\n",
    "Fama and French created risk factors as long/short portfolios of stocks exhibiting certain charecteristics. The simple way to think about it is that to create the portfolios we can divide the universe of stocks in two halves based on charecterictics (e.g. small stocks vs. large stocks) and create a certain factor by substracting returns of one portfolio from another. In practice, Fama and French had a more complicated way of the portfolio composition (see http://mba.tuck.dartmouth.edu/pages/faculty/ken.french/Data_Library/f-f_bench_factor.html for more information). \n",
    "\n",
    "In thier original paper (1992) they suggested two additional factors:\n",
    "\n",
    "- High [book-to-market] minus Low (HML), and \n",
    "- Small [market capitalization] minus Big (SMB).\n",
    "\n",
    "Later, Carhart (1997) proposed another factor (UMD - Up minus Down) to capture the tendency of well performing stock to continue good performance by inertia, as well as badly performing stocks to keep performing badly. \n",
    "\n",
    "Recently, Fama and French (2015) added two more factors:\n",
    "\n",
    "- Robust (operational income) minus Weak (RMW), and\n",
    "- Conservative (capital expenditure) minus Aggressive (CMA).\n",
    "\n",
    "These are just examples of the factor approach to investing. There are other frameworks that use the similar idea, e.g. Fung and Hsieh (2001) seven-factor model.\n",
    "\n",
    "The take-away here, is that the stock return has many determinants besides the broad market dynamics. However, a prudent investor can evaluate and manage his/her portfolio based on exposures to various risk factors. \n",
    "\n",
    "This approach rehabilitated the notion of 'beta'. Now some managers refer to the exposure to other than the market risk factors as a 'smart beta', implying that the skill of the asset manager can manifest itself in choosing risk exposure to various factors that pay off. \n"
   ]
  },
  {
   "cell_type": "markdown",
   "metadata": {},
   "source": [
    "## Value investing via risk factors"
   ]
  },
  {
   "cell_type": "markdown",
   "metadata": {},
   "source": [
    "Another important outcome is that by constructing factor portfolios, we can express our investment philosophy through a diversified portfolio of stocks. \n",
    "\n",
    "For example, HML factor can be viewed as a classic Value vs. Growth investment approach. Value investing was suggested by Graham and Dodd (1934), and came to fame due to the success of Warran Buffet. In its simple form, Value investing implies acquiring stocks of companies with low Price-to-Book ratio. In academia, the numerator and the denominator are usually flipped, so academica talk about high Book-to-Price as an example of Value investing.  \n",
    "\n",
    "Let's see how the Fama and French Value portfolio performed historically."
   ]
  },
  {
   "cell_type": "code",
   "execution_count": 3,
   "metadata": {},
   "outputs": [
    {
     "data": {
      "image/png": "[encoded data removed]",
      "text/plain": [
       "<matplotlib.figure.Figure at 0x23496a32be0>"
      ]
     },
     "metadata": {},
     "output_type": "display_data"
    }
   ],
   "source": [
    "# Load factors\n",
    "df = pd.read_csv('Data/ff_5factors.CSV', index_col=0 ,parse_dates=True) \n",
    "\n",
    "# Plot HML compunded\n",
    "hml = (1+ df['HML']/100).cumprod() - 1\n",
    "_ = plt.plot(hml, color='maroon')\n",
    "_ = plt.xlim('1963','2018')\n",
    "_ = plt.suptitle('Historic compound performance HML factor', fontsize=18)\n",
    "_ = plt.title('(1963 - 2018)', fontsize= 12)\n",
    "\n",
    "# Save the plot\n",
    "plt.savefig('Graphs\\HML_performance.png', dpi=300)"
   ]
  },
  {
   "cell_type": "markdown",
   "metadata": {},
   "source": [
    "Looks like the Value factors performed fairly well histrorically. Now, we will look at it as it pertains to market cyclicity. First we will analyze compounded performance in growing and declining Value markets. \n",
    "\n",
    "To do it we adopt the approach to finding market peaks and troughs similar to Pagan et al (2003), but with slightly different time frames:\n",
    "\n",
    "- We find local mimima and maxima in 8 months windows both ways (prior and past the date of the observation).\n",
    "- We enforce the change of cycles (minima after maxima and vice versa)\n",
    "- We exclude cucles of less than 16 months and phases of less than 8 months unless the threshold of price increase or drop is met. We set the threshold at 20%."
   ]
  },
  {
   "cell_type": "code",
   "execution_count": 14,
   "metadata": {},
   "outputs": [],
   "source": [
    "def find_ip(data, window, min_cycle, min_phase, threshold):\n",
    "    '''\n",
    "    Finds inflection points in a dataset. \n",
    "    Inflection point determination is inspired by Pagan et al, 2003\n",
    "    \n",
    "    INPUTS:\n",
    "        data - DataFrame with timeseries of stock/index closing price\n",
    "        \n",
    "    OUTPUTS:\n",
    "        cycles - data frame with inflection points containing \n",
    "                'ip'= 1/ -1 if the point is Max or Min in the cycle\n",
    "                'price' - the price of the asset \n",
    "    \n",
    "    \n",
    "        timeseries - data frame of of all prices. Contains 'price' and 'ip'\n",
    "    \n",
    "   \n",
    "    '''\n",
    "   \n",
    "    tmp_df = pd.DataFrame({'price':data, 'ip':np.zeros(len(data))},\n",
    "                           index = data.index)\n",
    "    \n",
    "    \n",
    "    # Find local maxima and minima\n",
    "    \n",
    "    for i in range(window, len(data)-window):\n",
    "        local_max = data.iloc[i-window : i+window].max()\n",
    "        local_min = data.iloc[i-window : i+window].min()\n",
    "    \n",
    "        if tmp_df['price'].iloc[i] == local_max:\n",
    "            tmp_df['ip'].iloc[i] = 1\n",
    "        elif tmp_df['price'].iloc[i] == local_min:\n",
    "            tmp_df['ip'].iloc[i] = -1 \n",
    "        else:\n",
    "            tmp_df['ip'].iloc[i] = 0\n",
    "    \n",
    "    cycles = tmp_df[tmp_df['ip']!=0]\n",
    "    \n",
    "\n",
    "    \n",
    "    # remove short cycles and phases:\n",
    "\n",
    "    cycles['date'] = pd.to_datetime(cycles.index)\n",
    "    cycles['time_diff'] = cycles['date'] - cycles['date'].shift(1)\n",
    "    cycles['time_diff'] = cycles['time_diff'].astype(dt.timedelta).map(lambda x: np.nan if pd.isnull(x) else x.days)\n",
    "\n",
    "    for i in range(len(cycles)-2):\n",
    "        #Calculate cycle and phases length\n",
    "        cycle_length = cycles['time_diff'].iloc[i+1] + cycles['time_diff'].iloc[i+2]\n",
    "        phase_length = cycles['time_diff'].iloc[i+1]\n",
    "\n",
    "        #Calculate price change\n",
    "        price_chng = np.abs((cycles['price'].iloc[i+1] - cycles['price'].iloc[i]) / cycles['price'].iloc[i])  \n",
    "\n",
    "        #Remove short cycles and phases\n",
    "        if price_chng > threshold:  #Keep cycles and phases with large swings despite length\n",
    "            next\n",
    "        else:\n",
    "            if cycle_length < min_cycle or phase_length < min_phase:\n",
    "                cycles['ip'].iloc[i-1] = 0\n",
    "                cycles['ip'].iloc[i] = 0\n",
    "\n",
    "\n",
    "    \n",
    "    #Enforce alteration\n",
    "\n",
    "    for k in range(2):\n",
    "        for i in range(len(cycles)-1):\n",
    "            if cycles['ip'].iloc[i] == cycles['ip'].iloc[i+1] and cycles['ip'].iloc[i]==1:\n",
    "                if cycles['price'].iloc[i] > cycles['price'].iloc[i+1]:\n",
    "                    cycles['ip'].iloc[i] = 1\n",
    "                    cycles['ip'].iloc[i+1] = 0\n",
    "                else:\n",
    "                    cycles['ip'].iloc[i] = 0\n",
    "                    cycles['ip'].iloc[i+1] = 1\n",
    "\n",
    "            if cycles['ip'].iloc[i] == cycles['ip'].iloc[i+1] and cycles['ip'].iloc[i]==-1:\n",
    "                if cycles['price'].iloc[i] < cycles['price'].iloc[i+1]:\n",
    "                    cycles['ip'].iloc[i] = -1\n",
    "                    cycles['ip'].iloc[i+1] = 0\n",
    "                else:\n",
    "                    cycles['ip'].iloc[i] = 0\n",
    "                    cycles['ip'].iloc[i+1] = -1\n",
    "\n",
    "        tmp_df.update(cycles)\n",
    "        cycles = tmp_df[tmp_df['ip']!=0]\n",
    "    \n",
    "    \n",
    "    tmp_df.update(cycles[['ip']])   \n",
    "           \n",
    "    cycles = tmp_df[tmp_df['ip']!=0]\n",
    "\n",
    "\n",
    "    # Return dataframes\n",
    "    timeseries = tmp_df\n",
    "    \n",
    "    return cycles, timeseries\n",
    "\n",
    "\n"
   ]
  },
  {
   "cell_type": "markdown",
   "metadata": {},
   "source": [
    "We mark peaks with green arrows and troughs with red."
   ]
  },
  {
   "cell_type": "code",
   "execution_count": 15,
   "metadata": {},
   "outputs": [],
   "source": [
    "# Calculate peaks and troughs\n",
    "cycles, timeseries = find_ip(hml, window = 21*8, min_cycle = 21*16, min_phase = 21*8, threshold = 0.2)\n"
   ]
  },
  {
   "cell_type": "code",
   "execution_count": 16,
   "metadata": {},
   "outputs": [
    {
     "data": {
      "image/png": "[encoded data removed]",
      "text/plain": [
       "<matplotlib.figure.Figure at 0x23494a6a1d0>"
      ]
     },
     "metadata": {},
     "output_type": "display_data"
    }
   ],
   "source": [
    "# Print a graph with peaks and troughs\n",
    "peak = timeseries.loc[timeseries['ip']==1, 'ip'] * timeseries.loc[timeseries['ip']==1, 'price']\n",
    "trough = (-1) * timeseries.loc[timeseries['ip']==-1, 'ip'] * timeseries.loc[timeseries['ip']==-1, 'price']\n",
    "\n",
    "_ = plt.plot(timeseries['price'], color='maroon')\n",
    "_ = plt.plot(peak, 'v',color = 'green')\n",
    "_ = plt.plot(trough, '^',color = 'red')\n",
    "_ = plt.xlim('1963','2018')\n",
    "_ = plt.suptitle('Peaks and Troughs of HML factor', fontsize=18)\n",
    "_ = plt.title('(1963 - 2018)', fontsize= 12)\n",
    "\n",
    "\n",
    "# Save the plot\n",
    "plt.savefig('Graphs\\HML_peaks_troughs.png', dpi=300)"
   ]
  },
  {
   "cell_type": "markdown",
   "metadata": {},
   "source": [
    "To better visualize it let's look at compund return in each phase of the Value cycle."
   ]
  },
  {
   "cell_type": "code",
   "execution_count": 20,
   "metadata": {},
   "outputs": [
    {
     "data": {
      "image/png": "[encoded data removed]",
      "text/plain": [
       "<matplotlib.figure.Figure at 0x2349807b3c8>"
      ]
     },
     "metadata": {},
     "output_type": "display_data"
    }
   ],
   "source": [
    "df_tmp = timeseries.copy()\n",
    "\n",
    "df_tmp['ret'] = df['HML']/100\n",
    "\n",
    "df_tmp.loc[df_tmp['ip']==0,'ip'] = np.nan\n",
    "df_tmp.loc[np.isfinite(df_tmp['ip']),'ip'] = 0\n",
    "df_tmp.loc[np.isnan(df_tmp['ip']),'ip'] = 1\n",
    "\n",
    "\n",
    "buy_peak = pd.DataFrame(index=df_tmp.index) #Place holder for the dataframe\n",
    "\n",
    "comp_ret=np.array([0.])\n",
    "for i in range(1, len(df_tmp)):\n",
    "    comp_ret_new = ((1 + comp_ret[i-1]) * (1 + df_tmp['ret'].iloc[i]) -1) * df_tmp['ip'].iloc[i]\n",
    "    comp_ret = np.append(comp_ret, comp_ret_new)    \n",
    "\n",
    "buy_peak['B_o_P'] = comp_ret\n",
    "\n",
    "x = buy_peak.index\n",
    "y = buy_peak['B_o_P']\n",
    "\n",
    "_ = plt.fill_between(x, y, where= y >= 0, facecolor='gray')\n",
    "_ = plt.fill_between(x, y, where= y < 0, facecolor='maroon')\n",
    "_ = plt.xlim(('1963', '2018'))\n",
    "_ = plt.suptitle('Compound return of HML in various phases', fontsize=18 )\n",
    "_ = plt.title('(1963 - 2018)')\n",
    "\n",
    "\n",
    "# Add annotation\n",
    "# Divide into periods\n",
    "df_tmp = cycles.copy()\n",
    "df_tmp = df_tmp.join(buy_peak['B_o_P'].shift(1), how='left')\n",
    "df_tmp.loc[df.index[0],'B_o_P'] = 0\n",
    "df_tmp.loc[df.index[-1],'B_o_P'] = buy_peak['B_o_P'].iloc[-1]\n",
    "df_tmp.sort_index(inplace=True)\n",
    "df_tmp.reset_index(inplace=True)\n",
    "\n",
    "# Calculate perdiod length\n",
    "df_tmp['period'] = df_tmp['index'] - df_tmp['index'].shift(1)\n",
    "df_tmp.set_index('index', inplace=True)\n",
    "df_tmp = df_tmp.iloc[1:,]\n",
    "df_tmp['period'] = (df_tmp['period']/ np.timedelta64(1, 'D')).astype(int)\n",
    "\n",
    "# Calculate average period and return\n",
    "period = df_tmp.groupby('ip')['period'].mean()\n",
    "ret = df_tmp.groupby('ip')['B_o_P'].mean()\n",
    "\n",
    "hml_stats = pd.DataFrame([period, ret]).T\n",
    "hml_stats.index = ['Down', 'Up']\n",
    "hml_stats.columns = ['Avg. period (days)', 'Avg. compound return']\n",
    "hml_stats.iloc[:,0] = hml_stats.iloc[:,0].astype('int')\n",
    "hml_stats.iloc[:,1] = hml_stats.iloc[:,1].round(4)\n",
    "\n",
    "up = 'The \\'up\\' market is on average ' + str(hml_stats.iloc[1,0]) + ' days long\\nand yields ' + str(round(hml_stats.iloc[1,1]*100, 2)) +'% compound return'\n",
    "down = 'The \\'down\\' market is on average ' + str(hml_stats.iloc[0,0]) +' days long \\nand yields ' + str(round(hml_stats.iloc[0,1]*100,2)) +'% compound return'\n",
    "\n",
    "_ = plt.text('1988', 1.20, up, size=9)\n",
    "_ = plt.text('1964', -0.35, down, size=9, color='maroon')\n"
   ]
  },
  {
   "cell_type": "markdown",
   "metadata": {},
   "source": [
    "We can see that historically the Value cycles were longer and more profitable than the Growth cycles. However, it the recent decade things have changed. In my next blog post I will present my view on the possible explanation of thia phenomenon and on its potential impact on the stock market in the near future. "
   ]
  },
  {
   "cell_type": "markdown",
   "metadata": {},
   "source": [
    "## Conclusion"
   ]
  },
  {
   "cell_type": "markdown",
   "metadata": {},
   "source": [
    "We can create factor portfolios that provide risk/return exposure to certain desirable charecteristics of stocks, e.g. Value investing, robust profitability, etc. These factor portfolios, aka 'smart beta', can be the basis for the investment strategy implemented by an asset manager.\n",
    "\n",
    "Our quick analysis of the Value (HML) factor, shows that historically Value cycles have been longer and yielded higher compound returns than Growth cycles. \n",
    "\n"
   ]
  },
  {
   "cell_type": "markdown",
   "metadata": {},
   "source": [
    "## References\n",
    "\n",
    "*1. Markowitz, Harry. \"Portfolio selection.\" The journal of finance 7.1 (1952): 77-91.*\n",
    "\n",
    "*2. Sharpe, William F. \"Capital asset prices: A theory of market equilibrium under conditions of risk.\" The journal of finance 19.3 (1964): 425-442.*\n",
    "\n",
    "*3. Fama, Eugene F., and Kenneth R. French. \"The cross‐section of expected stock returns.\" the Journal of Finance 47.2 (1992): 427-465.*\n",
    "\n",
    "*4. Fama, Eugene F., and Kenneth R. French. \"Incremental variables and the investment opportunity set.\" Journal of Financial Economics 117.3 (2015): 470-488.*\n",
    "\n",
    "*5. Carhart, Mark M. \"On persistence in mutual fund performance.\" The Journal of finance 52.1 (1997): 57-82.*\n",
    "\n",
    "*6. Fung, William, and David A. Hsieh. \"The risk in hedge fund strategies: Theory and evidence from trend followers.\" The Review of Financial Studies 14.2 (2001): 313-341.*\n",
    "\n",
    "*7. Pagan, Adrian R., and Kirill A. Sossounov. \"A simple framework for analysing bull and bear markets.\" Journal of Applied Econometrics 18.1 (2003): 23-46.*\n"
   ]
  },
  {
   "cell_type": "markdown",
   "metadata": {},
   "source": [
    "### Reminder\n",
    "\n",
    "**If you choose to use this publication for your own work, please include a reference to this publication and a link leading to this document. **"
   ]
  },
  {
   "cell_type": "markdown",
   "metadata": {},
   "source": [
    "### Disclaimer\n",
    "\n",
    "**Not an Offer or Inducement**\n",
    "\n",
    "*This publication has been prepared for informational purposes only and does not constitute an offer to sell, a solicitation of an offer to buy, or a recommendation of any security or any other product or service by QFL Capital LLC., QFL Holdings Inc., authors of the publication, or any other third party regardless of whether such security, product or service is referenced in this publication. None of the information\tor analyses presented are intended to form the basis for any investment decision, and no specific recommendations are intended.* \n",
    "\n",
    "*Accordingly this publication does not constitute investment advice or counsel or solicitation for investment in any security. This publication does not constitute or form part of, and should not be construed as, any offer for sale or subscription of, or any invitation to offer to buy or subscribe for, any securities, nor should it or any part of it form the basis of, or be relied on in any connection with, any contract or commitment whatsoever.* \n",
    "\n",
    "*QFL Capital LLC., QFL Holdings Inc., and authors of the publication expressly disclaim any\tand all responsibility for any direct or consequential loss or damage of any kind whatsoever arising directly or indirectly from: (i) the use of this site, (ii) reliance on any information contained herein, (iii) any error, omission or inaccuracy in any such information or (iv) any action resulting therefrom. *\n",
    "\n",
    "**Investment Performance**\n",
    "\n",
    "*Investors should seek financial advice regarding the appropriateness of investing in any securities or investment strategies discussed or recommended in this documentation and should understand that statements regarding future prospects may not be realized. Investors should note that income from such securities may fluctuate and that each security's price or value may rise or fall. Accordingly, investors may receive back less than originally invested.* \n",
    "\n",
    "*Past performance is not necessary a guide to future performance. In consideration of being permitted access to the publication, the viewer hereby acknowledges having read and understood this agreement and agrees to be bound by its terms and conditions.* \n",
    "\n",
    "**No Warranties**\n",
    "\n",
    "*QFL Capital LLC., QFL Holdings Inc., and authors of the publication take care to ensure that the information provided is accurate and up to date. However this documentation is provided without warranties of any kind, either expressed or implied, including but not limited to warranties of title or implied warranties of merchantability or fitness for a particular purpose. Opinions expressed herein are subject to change without notice. All information and content on this publication is furnished \"as is,\" without warranty of any kind, express or implied, including but not limited to implied warranties of merchantability, fitness for a particular purpose, or non-infringement. *\n"
   ]
  }
 ],
 "metadata": {
  "kernelspec": {
   "display_name": "Python 3",
   "language": "python",
   "name": "python3"
  },
  "language_info": {
   "codemirror_mode": {
    "name": "ipython",
    "version": 3
   },
   "file_extension": ".py",
   "mimetype": "text/x-python",
   "name": "python",
   "nbconvert_exporter": "python",
   "pygments_lexer": "ipython3",
   "version": "3.6.4"
  }
 },
 "nbformat": 4,
 "nbformat_minor": 2
}
